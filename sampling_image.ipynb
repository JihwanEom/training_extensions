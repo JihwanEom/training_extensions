{
 "cells": [
  {
   "cell_type": "code",
   "execution_count": 2,
   "metadata": {},
   "outputs": [],
   "source": [
    "import os\n",
    "import shutil\n",
    "import pathlib\n",
    "\n",
    "data_path = '/local/sungmanc/datasets/cifar100/train'"
   ]
  },
  {
   "cell_type": "code",
   "execution_count": 4,
   "metadata": {},
   "outputs": [],
   "source": [
    "num_samples_per_class = [10, 20, 30, 40, 50, 60]\n",
    "\n",
    "for num_sample in num_samples_per_class:\n",
    "    output_data_path = os.path.join('/local/sungmanc/datasets/cifar100_{}'.format(100 * num_sample))\n",
    "    \n",
    "    for folder in os.listdir(data_path):\n",
    "        folder_path = os.path.join(data_path, folder)\n",
    "        \n",
    "        output_folder_path = os.path.join(output_data_path, folder)\n",
    "        pathlib.Path(output_folder_path).mkdir(parents=True, exist_ok=True)\n",
    "\n",
    "        file_list = os.listdir(folder_path)\n",
    "        sampled_file_list = file_list[:num_sample]\n",
    "\n",
    "        for file in sampled_file_list:\n",
    "            src_file_path = os.path.join(folder_path, file)\n",
    "            dst_file_path = os.path.join(output_folder_path, file)\n",
    "            shutil.copy2(src_file_path, dst_file_path)\n",
    "\n",
    "\n"
   ]
  },
  {
   "cell_type": "code",
   "execution_count": null,
   "metadata": {},
   "outputs": [],
   "source": []
  }
 ],
 "metadata": {
  "kernelspec": {
   "display_name": "Python 3.8.10 ('venv': venv)",
   "language": "python",
   "name": "python3"
  },
  "language_info": {
   "codemirror_mode": {
    "name": "ipython",
    "version": 3
   },
   "file_extension": ".py",
   "mimetype": "text/x-python",
   "name": "python",
   "nbconvert_exporter": "python",
   "pygments_lexer": "ipython3",
   "version": "3.8.10"
  },
  "orig_nbformat": 4,
  "vscode": {
   "interpreter": {
    "hash": "9e11b1f65b15387ca9cd06fb73b6ad5b3fada7404677cc50f086684c7489a08e"
   }
  }
 },
 "nbformat": 4,
 "nbformat_minor": 2
}
